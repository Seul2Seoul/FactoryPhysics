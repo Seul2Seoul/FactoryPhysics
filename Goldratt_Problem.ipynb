{
  "nbformat": 4,
  "nbformat_minor": 0,
  "metadata": {
    "colab": {
      "name": "Goldratt Problem",
      "provenance": [],
      "collapsed_sections": []
    },
    "kernelspec": {
      "name": "python3",
      "display_name": "Python 3"
    },
    "language_info": {
      "name": "python"
    }
  },
  "cells": [
    {
      "cell_type": "code",
      "execution_count": null,
      "metadata": {
        "colab": {
          "base_uri": "https://localhost:8080/"
        },
        "id": "B0hwKb5zQYI8",
        "outputId": "56ecb356-1339-40c7-c2b2-e3152d4cb14b"
      },
      "outputs": [
        {
          "output_type": "stream",
          "name": "stdout",
          "text": [
            "Requirement already satisfied: ortools in /usr/local/lib/python3.7/dist-packages (9.3.10497)\n",
            "Requirement already satisfied: protobuf>=3.19.4 in /usr/local/lib/python3.7/dist-packages (from ortools) (3.19.4)\n",
            "Requirement already satisfied: numpy>=1.13.3 in /usr/local/lib/python3.7/dist-packages (from ortools) (1.21.5)\n",
            "Requirement already satisfied: absl-py>=0.13 in /usr/local/lib/python3.7/dist-packages (from ortools) (1.0.0)\n",
            "Requirement already satisfied: six in /usr/local/lib/python3.7/dist-packages (from absl-py>=0.13->ortools) (1.15.0)\n",
            "Dongguk University ISE4002 Modified Goldratt Problem - Note that it is a LP version of the problem, so SHOULD NOT BE USED for your homework.\n",
            "Number of constraints = 6\n",
            "Solution:\n",
            "Objective value = 1300.0\n",
            "x = 100.0\n",
            "y = 30.0\n"
          ]
        }
      ],
      "source": [
        "!pip install ortools\n",
        " \n",
        "from ortools.linear_solver import pywraplp\n",
        " \n",
        " \n",
        "def main():\n",
        "    print('Dongguk University ISE4002 Modified Goldratt Problem - Note that it is a LP version of the problem, so SHOULD NOT BE USED for your homework.')\n",
        " \n",
        "    # Create the linear solver with the GLOP backend.\n",
        "    solver = pywraplp.Solver.CreateSolver('SCIP')\n",
        " \n",
        "    # Create the variables x_p and x_q.\n",
        "    # 과제 -> Numvar를 Interger로 바꾸기 \n",
        "    p = solver.IntVar(0, 100, 'xp')\n",
        "    q = solver.IntVar(0, 50, 'xq') \n",
        "\n",
        " \n",
        "    solver.Add(15 * p + 10 * q <= 2400)\n",
        "    solver.Add(15 * p + 30 * q <= 2400)\n",
        "    solver.Add(15 * p + 5 * q <= 2400)\n",
        "    solver.Add(15 * p + 5 * q <= 2400)\n",
        "    solver.Add(p <= 100)\n",
        "    solver.Add(q <= 50)\n",
        "    print('Number of constraints =', solver.NumConstraints())\n",
        "    \n",
        "    solver.Maximize(45 * p + 60 * q)\n",
        "    \n",
        "    status = solver.Solve()\n",
        "    \n",
        "    if status == pywraplp.Solver.OPTIMAL:\n",
        "        print('Solution:')\n",
        "        print('Objective value =', solver.Objective().Value()-5000)\n",
        "        print('x =', p.solution_value())\n",
        "        print('y =', q.solution_value())\n",
        " \n",
        " \n",
        "if __name__ == '__main__':\n",
        "    main()"
      ]
    }
  ]
}